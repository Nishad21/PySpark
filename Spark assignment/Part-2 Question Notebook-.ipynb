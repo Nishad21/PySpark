{
 "cells": [
  {
   "cell_type": "markdown",
   "metadata": {
    "id": "dOMqSrk_Q-xH"
   },
   "source": [
    "### Setup the Spark VM and complete the below assignment\n",
    "\n",
    "Objective:- Build a ML model to predict the employee compensation.\n",
    "The application should be modelled using Spark.\n",
    "\n",
    "You can refer to the below links for spark commands:- \n",
    "- https://spark.apache.org/docs/latest/ml-pipeline.html\n",
    "\n",
    "- https://github.com/spark-in-action/first-edition\n",
    "\n",
    "- https://github.com/FavioVazquez/first_spark_model"
   ]
  },
  {
   "cell_type": "markdown",
   "metadata": {
    "application/vnd.databricks.v1+cell": {
     "inputWidgets": {},
     "nuid": "2f9c04dd-cf52-4c53-aecd-bfe96f9529af",
     "showTitle": false,
     "title": ""
    },
    "id": "lAEn9f14QP0a"
   },
   "source": [
    "# Predicting Employee Compensation"
   ]
  },
  {
   "cell_type": "markdown",
   "metadata": {
    "application/vnd.databricks.v1+cell": {
     "inputWidgets": {},
     "nuid": "0ad7374a-5b59-4f1d-9a73-ecdf72f93ffd",
     "showTitle": false,
     "title": ""
    },
    "id": "SsDAS5vxQP0c"
   },
   "source": [
    "## Data Dictionary\n",
    "<br>**Year Type** - Fiscal (July through June) or Calendar (January through December)\n",
    "<br>**Year** - An accounting period of 12 months. The City and County of San Francisco operates on a fiscal year that begins on July 1 and ends on June 30 the following year. The Fiscal Year ending June 30, 2012 is represented as FY2011-2012.\n",
    "<br>**Organization Group Code** - Org Group is a group of Departments. For example, the Public Protection Org Group includes departments such as the Police,Fire, Adult Probation, District Attorney, and Sheriff.\n",
    "<br> **Organization Group** - Org Group is a group of Departments. For example, the Public Protection Org Group includes departments such as the Police,\n",
    "Fire, Adult Probation, District Attorney, and Sheriff.\n",
    "<br>**Department Code** - Departments are the primary organizational unit used by the Cityand County of San Francisco. Examples include Recreation and\n",
    "Parks, Public Works, and the Police Department.\n",
    "<br>**Department Code** - Departments are the primary organizational unit used by the City and County of San Francisco. Examples include Recreation and Parks, Public Works, and the Police Department.\n",
    "<br>**Union Code** - Unions represent employees in collective bargaining agreements. A job belongs to one union, although some jobs are unrepresented (usually temporarily).\n",
    "<br>**Union** - Unions represent employees in collective bargaining agreements. A job belongs to one union, although some jobs are unrepresented (usually temporarily).\n",
    "<br>**Job Family Code** Job Family combines similar Jobs into meaningful groups.\n",
    "<br>**Job Family** Job Family combines similar Jobs into meaningful groups.\n",
    "<br>**Employee Identifier** Each distinct number in the “Employee Identifier” column represents one employee. These identifying numbers are not meaningful but rather are randomly assigned for the purpose of building this dataset. The column does not appear on the\n",
    "Employee Compensation report hosted on openbook.sfgov.org,\n",
    "but that report does show one row for each employee. Employee\n",
    "ID has been included here to allow users to reconstruct the\n",
    "original report. Note that each employee’s identifier will change\n",
    "each time this dataset is updated, so comparisons by employee\n",
    "across multiple versions of the dataset are not possible.\n",
    "<br>**Salaries** - Normal salaries paid to permanent or temporary City employees.\n",
    "<br>**Overtime** - Amounts paid to City employees working in excess of 40 hours\n",
    "per week.\n",
    "<br>**Other Salaries** - Various irregular payments made to City employees including premium pay, incentive pay, or other one-time payments. Total Salary Number The sum of all salaries paid to City employees.\n",
    "<br>**Retirement** City contributions to employee retirement plans.\n",
    "<br>**Health/Dental** City-paid premiums to health and dental insurance plans covering City employees. To protect confidentiality as legally required, pro-rated citywide averages are presented in lieu of employee-specific health and dental benefits.\n",
    "<br>**Other Benefits** Mandatory benefits paid on behalf of employees, such as Social Security (FICA and Medicare) contributions, unemployment\n",
    "insurance premiums, and minor discretionary benefits not included in the above categories.\n",
    "<br>**Total Benefits** The sum of all benefits paid to City employees.\n",
    "<br>**Total Compensation** The sum of all salaries and benefits paid to City employees."
   ]
  },
  {
   "cell_type": "markdown",
   "metadata": {
    "id": "v_3QapC-QP0d"
   },
   "source": [
    "Read the data and answer the following questions to predict employee compensation"
   ]
  },
  {
   "cell_type": "markdown",
   "metadata": {},
   "source": [
    "### Loading Libraries"
   ]
  },
  {
   "cell_type": "code",
   "execution_count": 1,
   "metadata": {},
   "outputs": [
    {
     "data": {
      "text/html": [
       "\n",
       "            <div>\n",
       "                <p><b>SparkSession - in-memory</b></p>\n",
       "                \n",
       "        <div>\n",
       "            <p><b>SparkContext</b></p>\n",
       "\n",
       "            <p><a href=\"http://Vamsi:4041\">Spark UI</a></p>\n",
       "\n",
       "            <dl>\n",
       "              <dt>Version</dt>\n",
       "                <dd><code>v3.3.0</code></dd>\n",
       "              <dt>Master</dt>\n",
       "                <dd><code>local[*]</code></dd>\n",
       "              <dt>AppName</dt>\n",
       "                <dd><code>EmployeeCompensation</code></dd>\n",
       "            </dl>\n",
       "        </div>\n",
       "        \n",
       "            </div>\n",
       "        "
      ],
      "text/plain": [
       "<pyspark.sql.session.SparkSession at 0x1689d539280>"
      ]
     },
     "execution_count": 1,
     "metadata": {},
     "output_type": "execute_result"
    }
   ],
   "source": [
    "from pyspark.sql import DataFrame, SparkSession\n",
    "from typing import List\n",
    "import pyspark.sql.types as T\n",
    "import pyspark.sql.functions as F\n",
    "\n",
    "\n",
    "spark = SparkSession \\\n",
    "       .builder \\\n",
    "       .appName(\"EmployeeCompensation\") \\\n",
    "       .getOrCreate()\n",
    "\n",
    "spark"
   ]
  },
  {
   "cell_type": "code",
   "execution_count": 2,
   "metadata": {},
   "outputs": [],
   "source": [
    "import pandas as pd\n",
    "import matplotlib.pyplot as plt\n",
    "import seaborn as sns"
   ]
  },
  {
   "cell_type": "markdown",
   "metadata": {
    "application/vnd.databricks.v1+cell": {
     "inputWidgets": {},
     "nuid": "ffb92bbb-6e3b-46ec-885e-bb4471538c0c",
     "showTitle": false,
     "title": ""
    },
    "id": "_nMVTM8BQP0d"
   },
   "source": [
    "### 1. Read the Data"
   ]
  },
  {
   "cell_type": "code",
   "execution_count": 3,
   "metadata": {},
   "outputs": [],
   "source": [
    "file_location = \"Employee_Compensation.csv\"\n",
    "file_type = \"csv\"\n",
    "\n",
    "# CSV options\n",
    "infer_schema = True\n",
    "first_row_is_header = True\n",
    "delimiter = \",\"\n",
    "\n",
    "# The applied options are for CSV files. For other file types, these will be ignored.\n",
    "empcomDF = spark.read.format(file_type) \\\n",
    "  .option(\"inferSchema\", infer_schema) \\\n",
    "  .option(\"header\", first_row_is_header) \\\n",
    "  .option(\"sep\", delimiter) \\\n",
    "  .load(file_location)"
   ]
  },
  {
   "cell_type": "code",
   "execution_count": 4,
   "metadata": {},
   "outputs": [
    {
     "name": "stdout",
     "output_type": "stream",
     "text": [
      "+---------+----+-----------------------+--------------------+---------------+------------------------------+----------+---------------------------------+---------------+-----------------------------+--------+---------------------------+-------------------+---------+--------+--------------+------------+----------+-------------+--------------+--------------+------------------+\n",
      "|Year Type|Year|Organization Group Code|Organization Group  |Department Code|Department                    |Union Code|Union                            |Job Family Code|Job Family                   |Job Code|Job                        |Employee Identifier|Salaries |Overtime|Other Salaries|Total Salary|Retirement|Health/Dental|Other Benefits|Total Benefits|Total Compensation|\n",
      "+---------+----+-----------------------+--------------------+---------------+------------------------------+----------+---------------------------------+---------------+-----------------------------+--------+---------------------------+-------------------+---------+--------+--------------+------------+----------+-------------+--------------+--------------+------------------+\n",
      "|Fiscal   |2016|1                      |Public Protection   |DAT            |District Attorney             |311       |Municipal Attorneys' Association |8100           |Legal & Court                |8177    |Attorney (Civil/Criminal)  |49919              |114473.16|0.0     |1500.0        |115973.16   |21025.98  |13068.8      |9368.71       |43463.49      |159436.65         |\n",
      "|Calendar |2013|5                      |Culture & Recreation|ART            |Arts Commission               |790       |SEIU - Miscellaneous, Local 1021 |1800           |Budget, Admn & Stats Analysis|1844    |Senior Management Assistant|1225               |84077.11 |0.0     |0.0           |84077.11    |16587.3   |12457.73     |6931.91       |35976.94      |120054.05         |\n",
      "|Calendar |2015|4                      |Community Health    |DPH            |Public Health                 |535       |SEIU - Human Services, Local 1021|2900           |Human Services               |2903    |Eligibility Worker         |34873              |9980.17  |0.0     |798.43        |10778.6     |0.0       |2254.93      |835.11        |3090.04       |13868.64          |\n",
      "|Fiscal   |2015|4                      |Community Health    |DPH            |Public Health                 |250       |SEIU - Health Workers, Local 1021|2200           |Medical & Dental             |2202    |Dental Aide                |51145              |2873.41  |0.0     |0.0           |2873.41     |0.0       |622.63       |222.46        |845.09        |3718.5            |\n",
      "|Fiscal   |2014|5                      |Culture & Recreation|REC            |Recreation and Park Commission|790       |SEIU - Miscellaneous, Local 1021 |3200           |Recreation                   |3279    |Recreation Leader          |48705              |6701.85  |0.0     |176.7         |6878.55     |0.0       |2711.66      |538.43        |3250.09       |10128.64          |\n",
      "+---------+----+-----------------------+--------------------+---------------+------------------------------+----------+---------------------------------+---------------+-----------------------------+--------+---------------------------+-------------------+---------+--------+--------------+------------+----------+-------------+--------------+--------------+------------------+\n",
      "only showing top 5 rows\n",
      "\n"
     ]
    }
   ],
   "source": [
    "empcomDF.show(5, False)"
   ]
  },
  {
   "cell_type": "markdown",
   "metadata": {
    "id": "aWQ3YZi0RdP_"
   },
   "source": [
    "#### 1.1 Display the number of rows and columns in the dataset"
   ]
  },
  {
   "cell_type": "code",
   "execution_count": 5,
   "metadata": {
    "id": "hdbFw58TRjQd"
   },
   "outputs": [
    {
     "name": "stdout",
     "output_type": "stream",
     "text": [
      "Dimension of the Dataframe is: (291825, 22)\n",
      "Number of Rows are: 291825\n",
      "Number of Columns are: 22\n"
     ]
    }
   ],
   "source": [
    "# extracting number of rows from the Dataframe\n",
    "row = empcomDF.count()\n",
    "   \n",
    "# extracting number of columns from the Dataframe\n",
    "col = len(empcomDF.columns)\n",
    " \n",
    "# printing\n",
    "print(f'Dimension of the Dataframe is: {(row,col)}')\n",
    "print(f'Number of Rows are: {row}')\n",
    "print(f'Number of Columns are: {col}')"
   ]
  },
  {
   "cell_type": "markdown",
   "metadata": {
    "id": "cZYaCB4cRjjg"
   },
   "source": [
    "#### 1.2 Check the datatype of the variables"
   ]
  },
  {
   "cell_type": "code",
   "execution_count": 6,
   "metadata": {
    "id": "jdPpc_mgRpva"
   },
   "outputs": [
    {
     "name": "stdout",
     "output_type": "stream",
     "text": [
      "Year Type : string\n",
      "Year : int\n",
      "Organization Group Code : int\n",
      "Organization Group : string\n",
      "Department Code : string\n",
      "Department : string\n",
      "Union Code : int\n",
      "Union : string\n",
      "Job Family Code : string\n",
      "Job Family : string\n",
      "Job Code : string\n",
      "Job : string\n",
      "Employee Identifier : int\n",
      "Salaries : double\n",
      "Overtime : double\n",
      "Other Salaries : double\n",
      "Total Salary : double\n",
      "Retirement : double\n",
      "Health/Dental : double\n",
      "Other Benefits : double\n",
      "Total Benefits : double\n",
      "Total Compensation : double\n"
     ]
    }
   ],
   "source": [
    "#Get All column names and it's types\n",
    "for col in empcomDF.dtypes:\n",
    "    print(col[0]+\" : \"+col[1])"
   ]
  },
  {
   "cell_type": "markdown",
   "metadata": {
    "id": "re0TB8PAQP0f"
   },
   "source": [
    "### 2. Convert the incorrect column type into its suitable column type. And drop the redundant features"
   ]
  },
  {
   "cell_type": "code",
   "execution_count": 7,
   "metadata": {
    "id": "173LNkp7QP0f"
   },
   "outputs": [],
   "source": [
    "# dropping redundant features\n",
    "empcomDF1 = empcomDF.drop(\"Organization Group\",\"Department\",\"Union\",\"Job Family\",\"Job\")"
   ]
  },
  {
   "cell_type": "code",
   "execution_count": 8,
   "metadata": {},
   "outputs": [
    {
     "name": "stdout",
     "output_type": "stream",
     "text": [
      "root\n",
      " |-- Year Type: string (nullable = true)\n",
      " |-- Year: integer (nullable = true)\n",
      " |-- Organization Group Code: integer (nullable = true)\n",
      " |-- Department Code: string (nullable = true)\n",
      " |-- Union Code: integer (nullable = true)\n",
      " |-- Job Family Code: integer (nullable = true)\n",
      " |-- Job Code: integer (nullable = true)\n",
      " |-- Employee Identifier: integer (nullable = true)\n",
      " |-- Salaries: double (nullable = true)\n",
      " |-- Overtime: double (nullable = true)\n",
      " |-- Other Salaries: double (nullable = true)\n",
      " |-- Total Salary: double (nullable = true)\n",
      " |-- Retirement: double (nullable = true)\n",
      " |-- Health/Dental: double (nullable = true)\n",
      " |-- Other Benefits: double (nullable = true)\n",
      " |-- Total Benefits: double (nullable = true)\n",
      " |-- Total Compensation: double (nullable = true)\n",
      "\n"
     ]
    }
   ],
   "source": [
    "# Converting the incorrect column type into its suitable column type\n",
    "from pyspark.sql.types import IntegerType\n",
    "\n",
    "empcomDF2 =  empcomDF1.withColumn(\"Job Family Code\", empcomDF1[\"Job Family Code\"].cast(IntegerType())).withColumn(\"Job Code\", empcomDF1[\"Job Code\"].cast(IntegerType()))\n",
    "\n",
    "empcomDF2.printSchema()"
   ]
  },
  {
   "cell_type": "markdown",
   "metadata": {
    "application/vnd.databricks.v1+cell": {
     "inputWidgets": {},
     "nuid": "28154731-5e40-46a7-b9b3-9444c20c97e8",
     "showTitle": false,
     "title": ""
    },
    "id": "LYYQFu0dQP0g"
   },
   "source": [
    "### 3. Check basic statistics and perform necessary data preprocessing (Like removing negative amount)"
   ]
  },
  {
   "cell_type": "code",
   "execution_count": 9,
   "metadata": {
    "id": "DbrJKqGqQP0g"
   },
   "outputs": [
    {
     "name": "stdout",
     "output_type": "stream",
     "text": [
      "+-------+---------+------------------+-----------------------+---------------+-----------------+------------------+------------------+-------------------+-----------------+------------------+-----------------+-----------------+------------------+-----------------+------------------+------------------+------------------+\n",
      "|summary|Year Type|              Year|Organization Group Code|Department Code|       Union Code|   Job Family Code|          Job Code|Employee Identifier|         Salaries|          Overtime|   Other Salaries|     Total Salary|        Retirement|    Health/Dental|    Other Benefits|    Total Benefits|Total Compensation|\n",
      "+-------+---------+------------------+-----------------------+---------------+-----------------+------------------+------------------+-------------------+-----------------+------------------+-----------------+-----------------+------------------+-----------------+------------------+------------------+------------------+\n",
      "|  count|   291825|            291825|                 291825|         291825|           291782|            257154|            247664|             291825|           291825|            291825|           291825|           291825|            291825|           291825|            291825|            291825|            291825|\n",
      "|   mean|     null| 2014.325061252463|     2.9770513150004283|           null|489.5060764543392|4778.5595401977025| 4911.798751534337|  26917.83031611411|63210.17288680484| 4406.877439766991|3781.032869870671|71398.08319643958|12937.728957114638|8921.893731722927|4644.2764069562145| 26503.89909579375|  97901.9822922298|\n",
      "| stddev|     null|1.0322652725499564|     1.5777709265315096|           null|333.7611361507335| 3090.283171744253|3128.4123150253026|  15548.20198656868| 44660.4623049386|11079.405928192698|7697.665317297398|52224.21409875052| 9785.064808401658|4900.318082757244| 3787.907010421282|16800.143146558996| 67777.54915227591|\n",
      "|    min| Calendar|              2013|                      1|            AAM|                1|               900|               109|                  1|        -68771.78|         -12308.66|         -19131.1|        -68771.78|         -30621.43|         -2940.47|          -10636.5|         -21295.15|         -74082.61|\n",
      "|    max|   Fiscal|              2016|                      7|            WTR|              990|              9900|              9989|              53794|         515101.8|         227313.62|        342802.63|         515101.8|         105052.98|          21872.8|          35157.63|         141043.64|         653498.15|\n",
      "+-------+---------+------------------+-----------------------+---------------+-----------------+------------------+------------------+-------------------+-----------------+------------------+-----------------+-----------------+------------------+-----------------+------------------+------------------+------------------+\n",
      "\n"
     ]
    }
   ],
   "source": [
    "# Checking basic statistics\n",
    "empcomDF2.describe().show()"
   ]
  },
  {
   "cell_type": "code",
   "execution_count": 10,
   "metadata": {},
   "outputs": [],
   "source": [
    "# Data preprocessing\n",
    "empcomDF3 = empcomDF2.withColumn('Salaries', F.abs('Salaries'))\\\n",
    "                     .withColumn('Overtime', F.abs('Overtime'))\\\n",
    "                     .withColumn('Other Salaries', F.abs('Other Salaries'))\\\n",
    "                     .withColumn('Total Salary', F.abs('Total Salary'))\\\n",
    "                     .withColumn('Retirement', F.abs('Retirement'))\\\n",
    "                     .withColumn('Health/Dental', F.abs('Health/Dental'))\\\n",
    "                     .withColumn('Other Benefits', F.abs('Other Benefits'))\\\n",
    "                     .withColumn('Total Benefits', F.abs('Total Benefits'))\\\n",
    "                     .withColumn('Total Compensation', F.abs('Total Compensation'))"
   ]
  },
  {
   "cell_type": "code",
   "execution_count": 11,
   "metadata": {},
   "outputs": [
    {
     "name": "stdout",
     "output_type": "stream",
     "text": [
      "+-------+---------+------------------+-----------------------+---------------+-----------------+------------------+------------------+-------------------+------------------+------------------+------------------+-----------------+------------------+-----------------+-----------------+------------------+------------------+\n",
      "|summary|Year Type|              Year|Organization Group Code|Department Code|       Union Code|   Job Family Code|          Job Code|Employee Identifier|          Salaries|          Overtime|    Other Salaries|     Total Salary|        Retirement|    Health/Dental|   Other Benefits|    Total Benefits|Total Compensation|\n",
      "+-------+---------+------------------+-----------------------+---------------+-----------------+------------------+------------------+-------------------+------------------+------------------+------------------+-----------------+------------------+-----------------+-----------------+------------------+------------------+\n",
      "|  count|   291825|            291825|                 291825|         291825|           291782|            257154|            247664|             291825|            291825|            291825|            291825|           291825|            291825|           291825|           291825|            291825|            291825|\n",
      "|   mean|     null| 2014.325061252463|     2.9770513150004283|           null|489.5060764543392|4778.5595401977025| 4911.798751534337|  26917.83031611411| 63211.66907966015| 4407.001839252985|3781.4787949970305|71399.18343062101|12941.759468071537|8922.141894834393|4646.442060824106|26506.552052394443| 97903.64975327664|\n",
      "| stddev|     null|1.0322652725499564|     1.5777709265315096|           null|333.7611361507335| 3090.283171744253|3128.4123150253026|  15548.20198656868|44658.344586269435|11079.356446827733| 7697.446265586895|52222.70988047247| 9779.733400534518|4899.866229359879|3785.250185954161|16795.957097965034| 67775.14049934648|\n",
      "|    min| Calendar|              2013|                      1|            AAM|                1|               900|               109|                  1|               0.0|               0.0|               0.0|              0.0|               0.0|              0.0|              0.0|               0.0|               0.0|\n",
      "|    max|   Fiscal|              2016|                      7|            WTR|              990|              9900|              9989|              53794|          515101.8|         227313.62|         342802.63|         515101.8|         105052.98|          21872.8|         35157.63|         141043.64|         653498.15|\n",
      "+-------+---------+------------------+-----------------------+---------------+-----------------+------------------+------------------+-------------------+------------------+------------------+------------------+-----------------+------------------+-----------------+-----------------+------------------+------------------+\n",
      "\n"
     ]
    }
   ],
   "source": [
    "# Checking basic statistics after data preprocessing\n",
    "empcomDF3.describe().show()"
   ]
  },
  {
   "cell_type": "markdown",
   "metadata": {
    "application/vnd.databricks.v1+cell": {
     "inputWidgets": {},
     "nuid": "5b4a36b1-7f14-4a99-851e-492fd8ebb193",
     "showTitle": false,
     "title": ""
    },
    "id": "woI-NVRxQP0g"
   },
   "source": [
    "### 4. Perform Missing Value Analysis"
   ]
  },
  {
   "cell_type": "code",
   "execution_count": 12,
   "metadata": {
    "id": "T7kTJJ_QQP0g"
   },
   "outputs": [
    {
     "name": "stdout",
     "output_type": "stream",
     "text": [
      "+---------+----+-----------------------+---------------+----------+---------------+--------+-------------------+--------+--------+--------------+------------+----------+-------------+--------------+--------------+------------------+\n",
      "|Year Type|Year|Organization Group Code|Department Code|Union Code|Job Family Code|Job Code|Employee Identifier|Salaries|Overtime|Other Salaries|Total Salary|Retirement|Health/Dental|Other Benefits|Total Benefits|Total Compensation|\n",
      "+---------+----+-----------------------+---------------+----------+---------------+--------+-------------------+--------+--------+--------------+------------+----------+-------------+--------------+--------------+------------------+\n",
      "|        0|   0|                      0|              0|        43|          34671|   44161|                  0|       0|       0|             0|           0|         0|            0|             0|             0|                 0|\n",
      "+---------+----+-----------------------+---------------+----------+---------------+--------+-------------------+--------+--------+--------------+------------+----------+-------------+--------------+--------------+------------------+\n",
      "\n"
     ]
    }
   ],
   "source": [
    "# Checking null values\n",
    "\n",
    "from pyspark.sql.functions import isnull, when, count, col\n",
    "empcomDF3.select([count(when(isnull(c), c)).alias(c) for c in empcomDF3.columns]).show()"
   ]
  },
  {
   "cell_type": "code",
   "execution_count": 13,
   "metadata": {},
   "outputs": [],
   "source": [
    "empcomDF3 = empcomDF3.na.drop()"
   ]
  },
  {
   "cell_type": "code",
   "execution_count": 14,
   "metadata": {},
   "outputs": [
    {
     "name": "stdout",
     "output_type": "stream",
     "text": [
      "+---------+----+-----------------------+---------------+----------+---------------+--------+-------------------+--------+--------+--------------+------------+----------+-------------+--------------+--------------+------------------+\n",
      "|Year Type|Year|Organization Group Code|Department Code|Union Code|Job Family Code|Job Code|Employee Identifier|Salaries|Overtime|Other Salaries|Total Salary|Retirement|Health/Dental|Other Benefits|Total Benefits|Total Compensation|\n",
      "+---------+----+-----------------------+---------------+----------+---------------+--------+-------------------+--------+--------+--------------+------------+----------+-------------+--------------+--------------+------------------+\n",
      "|        0|   0|                      0|              0|         0|              0|       0|                  0|       0|       0|             0|           0|         0|            0|             0|             0|                 0|\n",
      "+---------+----+-----------------------+---------------+----------+---------------+--------+-------------------+--------+--------+--------------+------------+----------+-------------+--------------+--------------+------------------+\n",
      "\n"
     ]
    }
   ],
   "source": [
    "from pyspark.sql.functions import isnull, when, count, col\n",
    "empcomDF3.select([count(when(isnull(c), c)).alias(c) for c in empcomDF3.columns]).show()"
   ]
  },
  {
   "cell_type": "code",
   "execution_count": 15,
   "metadata": {},
   "outputs": [
    {
     "name": "stdout",
     "output_type": "stream",
     "text": [
      "Dimension of the Dataframe is: (246601, 17)\n",
      "Number of Rows are: 246601\n",
      "Number of Columns are: 17\n"
     ]
    }
   ],
   "source": [
    "# extracting number of rows from the Dataframe\n",
    "row = empcomDF3.count()\n",
    "   \n",
    "# extracting number of columns from the Dataframe\n",
    "col = len(empcomDF3.columns)\n",
    " \n",
    "# printing\n",
    "print(f'Dimension of the Dataframe is: {(row,col)}')\n",
    "print(f'Number of Rows are: {row}')\n",
    "print(f'Number of Columns are: {col}')"
   ]
  },
  {
   "cell_type": "markdown",
   "metadata": {
    "application/vnd.databricks.v1+cell": {
     "inputWidgets": {},
     "nuid": "9cd43cd2-ed88-4edf-ba6f-7e7e6f2f65d1",
     "showTitle": false,
     "title": ""
    },
    "id": "K_KbHnjZQP0g"
   },
   "source": [
    "### 5. Exploratory Data Analysis"
   ]
  },
  {
   "cell_type": "markdown",
   "metadata": {
    "application/vnd.databricks.v1+cell": {
     "inputWidgets": {},
     "nuid": "44aa560c-5c6a-4188-a740-5e49cd147b26",
     "showTitle": false,
     "title": ""
    },
    "id": "5hea56hUQP0h"
   },
   "source": [
    "#### 5.1. Find top compensating organizations. Display using bar plot"
   ]
  },
  {
   "cell_type": "code",
   "execution_count": 16,
   "metadata": {},
   "outputs": [],
   "source": [
    "# Finding top compensating organizations\n",
    "org = empcomDF3.groupby('Organization Group Code').sum('Total Compensation')"
   ]
  },
  {
   "cell_type": "code",
   "execution_count": 17,
   "metadata": {},
   "outputs": [
    {
     "name": "stdout",
     "output_type": "stream",
     "text": [
      "+-----------------------+-----------------------+\n",
      "|Organization Group Code|sum(Total Compensation)|\n",
      "+-----------------------+-----------------------+\n",
      "|                      1|   2.5630895262499995E9|\n",
      "|                      6|   2.3898713306700025E9|\n",
      "|                      3|   1.7968148968999991E9|\n",
      "|                      5|   1.3076229483599994E9|\n",
      "|                      4|    5.604190624190018E9|\n",
      "|                      7|     5289047.3500000015|\n",
      "|                      2|    9.129381240569984E9|\n",
      "+-----------------------+-----------------------+\n",
      "\n"
     ]
    }
   ],
   "source": [
    "org.show()"
   ]
  },
  {
   "cell_type": "code",
   "execution_count": 18,
   "metadata": {},
   "outputs": [
    {
     "data": {
      "text/html": [
       "<div>\n",
       "<style scoped>\n",
       "    .dataframe tbody tr th:only-of-type {\n",
       "        vertical-align: middle;\n",
       "    }\n",
       "\n",
       "    .dataframe tbody tr th {\n",
       "        vertical-align: top;\n",
       "    }\n",
       "\n",
       "    .dataframe thead th {\n",
       "        text-align: right;\n",
       "    }\n",
       "</style>\n",
       "<table border=\"1\" class=\"dataframe\">\n",
       "  <thead>\n",
       "    <tr style=\"text-align: right;\">\n",
       "      <th></th>\n",
       "      <th>Organization Group Code</th>\n",
       "      <th>sum(Total Compensation)</th>\n",
       "    </tr>\n",
       "  </thead>\n",
       "  <tbody>\n",
       "    <tr>\n",
       "      <th>0</th>\n",
       "      <td>1</td>\n",
       "      <td>2.563090e+09</td>\n",
       "    </tr>\n",
       "    <tr>\n",
       "      <th>1</th>\n",
       "      <td>6</td>\n",
       "      <td>2.389871e+09</td>\n",
       "    </tr>\n",
       "    <tr>\n",
       "      <th>2</th>\n",
       "      <td>3</td>\n",
       "      <td>1.796815e+09</td>\n",
       "    </tr>\n",
       "    <tr>\n",
       "      <th>3</th>\n",
       "      <td>5</td>\n",
       "      <td>1.307623e+09</td>\n",
       "    </tr>\n",
       "    <tr>\n",
       "      <th>4</th>\n",
       "      <td>4</td>\n",
       "      <td>5.604191e+09</td>\n",
       "    </tr>\n",
       "    <tr>\n",
       "      <th>5</th>\n",
       "      <td>7</td>\n",
       "      <td>5.289047e+06</td>\n",
       "    </tr>\n",
       "    <tr>\n",
       "      <th>6</th>\n",
       "      <td>2</td>\n",
       "      <td>9.129381e+09</td>\n",
       "    </tr>\n",
       "  </tbody>\n",
       "</table>\n",
       "</div>"
      ],
      "text/plain": [
       "   Organization Group Code  sum(Total Compensation)\n",
       "0                        1             2.563090e+09\n",
       "1                        6             2.389871e+09\n",
       "2                        3             1.796815e+09\n",
       "3                        5             1.307623e+09\n",
       "4                        4             5.604191e+09\n",
       "5                        7             5.289047e+06\n",
       "6                        2             9.129381e+09"
      ]
     },
     "execution_count": 18,
     "metadata": {},
     "output_type": "execute_result"
    }
   ],
   "source": [
    "orgdf = org.toPandas()\n",
    "\n",
    "orgdf"
   ]
  },
  {
   "cell_type": "code",
   "execution_count": 19,
   "metadata": {},
   "outputs": [],
   "source": [
    "orgdf = orgdf.sort_values(by=['sum(Total Compensation)'], ascending=False)"
   ]
  },
  {
   "cell_type": "code",
   "execution_count": 20,
   "metadata": {},
   "outputs": [
    {
     "data": {
      "text/html": [
       "<div>\n",
       "<style scoped>\n",
       "    .dataframe tbody tr th:only-of-type {\n",
       "        vertical-align: middle;\n",
       "    }\n",
       "\n",
       "    .dataframe tbody tr th {\n",
       "        vertical-align: top;\n",
       "    }\n",
       "\n",
       "    .dataframe thead th {\n",
       "        text-align: right;\n",
       "    }\n",
       "</style>\n",
       "<table border=\"1\" class=\"dataframe\">\n",
       "  <thead>\n",
       "    <tr style=\"text-align: right;\">\n",
       "      <th></th>\n",
       "      <th>Organization Group Code</th>\n",
       "      <th>sum(Total Compensation)</th>\n",
       "    </tr>\n",
       "  </thead>\n",
       "  <tbody>\n",
       "    <tr>\n",
       "      <th>6</th>\n",
       "      <td>2</td>\n",
       "      <td>9.129381e+09</td>\n",
       "    </tr>\n",
       "    <tr>\n",
       "      <th>4</th>\n",
       "      <td>4</td>\n",
       "      <td>5.604191e+09</td>\n",
       "    </tr>\n",
       "    <tr>\n",
       "      <th>0</th>\n",
       "      <td>1</td>\n",
       "      <td>2.563090e+09</td>\n",
       "    </tr>\n",
       "    <tr>\n",
       "      <th>1</th>\n",
       "      <td>6</td>\n",
       "      <td>2.389871e+09</td>\n",
       "    </tr>\n",
       "    <tr>\n",
       "      <th>2</th>\n",
       "      <td>3</td>\n",
       "      <td>1.796815e+09</td>\n",
       "    </tr>\n",
       "    <tr>\n",
       "      <th>3</th>\n",
       "      <td>5</td>\n",
       "      <td>1.307623e+09</td>\n",
       "    </tr>\n",
       "    <tr>\n",
       "      <th>5</th>\n",
       "      <td>7</td>\n",
       "      <td>5.289047e+06</td>\n",
       "    </tr>\n",
       "  </tbody>\n",
       "</table>\n",
       "</div>"
      ],
      "text/plain": [
       "   Organization Group Code  sum(Total Compensation)\n",
       "6                        2             9.129381e+09\n",
       "4                        4             5.604191e+09\n",
       "0                        1             2.563090e+09\n",
       "1                        6             2.389871e+09\n",
       "2                        3             1.796815e+09\n",
       "3                        5             1.307623e+09\n",
       "5                        7             5.289047e+06"
      ]
     },
     "execution_count": 20,
     "metadata": {},
     "output_type": "execute_result"
    }
   ],
   "source": [
    "orgdf"
   ]
  },
  {
   "cell_type": "code",
   "execution_count": 21,
   "metadata": {},
   "outputs": [
    {
     "data": {
      "text/plain": [
       "<AxesSubplot:xlabel='Organization Group Code'>"
      ]
     },
     "execution_count": 21,
     "metadata": {},
     "output_type": "execute_result"
    },
    {
     "data": {
      "image/png": "[encoded data removed]",
      "text/plain": [
       "<Figure size 432x288 with 1 Axes>"
      ]
     },
     "metadata": {
      "needs_background": "light"
     },
     "output_type": "display_data"
    }
   ],
   "source": [
    "# displaying bar plot\n",
    "orgdf.plot(x='Organization Group Code', y='sum(Total Compensation)', kind='bar')"
   ]
  },
  {
   "cell_type": "markdown",
   "metadata": {
    "application/vnd.databricks.v1+cell": {
     "inputWidgets": {},
     "nuid": "c991e941-045b-4556-ba17-f9c5454fdf06",
     "showTitle": false,
     "title": ""
    },
    "id": "hijeAEfXQP0h"
   },
   "source": [
    "#### 5.2. Find top Compensating Jobs. Display using bar plot"
   ]
  },
  {
   "cell_type": "code",
   "execution_count": 22,
   "metadata": {
    "id": "AmdpJh5vQP0h"
   },
   "outputs": [],
   "source": [
    "# Finding top Compensating Jobs\n",
    "jobdf = empcomDF3.groupby('Job Code').sum('Total Compensation')"
   ]
  },
  {
   "cell_type": "code",
   "execution_count": 23,
   "metadata": {},
   "outputs": [
    {
     "name": "stdout",
     "output_type": "stream",
     "text": [
      "+--------+-----------------------+\n",
      "|Job Code|sum(Total Compensation)|\n",
      "+--------+-----------------------+\n",
      "|    7340|             9174892.49|\n",
      "|    7253|      5196714.900000001|\n",
      "|    9376|              909278.61|\n",
      "|    7240|      766794.6200000001|\n",
      "|    1460|             9506938.71|\n",
      "+--------+-----------------------+\n",
      "only showing top 5 rows\n",
      "\n"
     ]
    }
   ],
   "source": [
    "jobdf.show(5)"
   ]
  },
  {
   "cell_type": "code",
   "execution_count": 24,
   "metadata": {},
   "outputs": [
    {
     "data": {
      "text/html": [
       "<div>\n",
       "<style scoped>\n",
       "    .dataframe tbody tr th:only-of-type {\n",
       "        vertical-align: middle;\n",
       "    }\n",
       "\n",
       "    .dataframe tbody tr th {\n",
       "        vertical-align: top;\n",
       "    }\n",
       "\n",
       "    .dataframe thead th {\n",
       "        text-align: right;\n",
       "    }\n",
       "</style>\n",
       "<table border=\"1\" class=\"dataframe\">\n",
       "  <thead>\n",
       "    <tr style=\"text-align: right;\">\n",
       "      <th></th>\n",
       "      <th>Job Code</th>\n",
       "      <th>sum(Total Compensation)</th>\n",
       "    </tr>\n",
       "  </thead>\n",
       "  <tbody>\n",
       "    <tr>\n",
       "      <th>0</th>\n",
       "      <td>7340</td>\n",
       "      <td>9174892.49</td>\n",
       "    </tr>\n",
       "    <tr>\n",
       "      <th>1</th>\n",
       "      <td>7253</td>\n",
       "      <td>5196714.90</td>\n",
       "    </tr>\n",
       "    <tr>\n",
       "      <th>2</th>\n",
       "      <td>9376</td>\n",
       "      <td>909278.61</td>\n",
       "    </tr>\n",
       "    <tr>\n",
       "      <th>3</th>\n",
       "      <td>7240</td>\n",
       "      <td>766794.62</td>\n",
       "    </tr>\n",
       "    <tr>\n",
       "      <th>4</th>\n",
       "      <td>1460</td>\n",
       "      <td>9506938.71</td>\n",
       "    </tr>\n",
       "    <tr>\n",
       "      <th>...</th>\n",
       "      <td>...</td>\n",
       "      <td>...</td>\n",
       "    </tr>\n",
       "    <tr>\n",
       "      <th>1010</th>\n",
       "      <td>8350</td>\n",
       "      <td>56324.40</td>\n",
       "    </tr>\n",
       "    <tr>\n",
       "      <th>1011</th>\n",
       "      <td>1367</td>\n",
       "      <td>4581.44</td>\n",
       "    </tr>\n",
       "    <tr>\n",
       "      <th>1012</th>\n",
       "      <td>3246</td>\n",
       "      <td>4552.04</td>\n",
       "    </tr>\n",
       "    <tr>\n",
       "      <th>1013</th>\n",
       "      <td>8213</td>\n",
       "      <td>3944.57</td>\n",
       "    </tr>\n",
       "    <tr>\n",
       "      <th>1014</th>\n",
       "      <td>2248</td>\n",
       "      <td>175550.21</td>\n",
       "    </tr>\n",
       "  </tbody>\n",
       "</table>\n",
       "<p>1015 rows × 2 columns</p>\n",
       "</div>"
      ],
      "text/plain": [
       "      Job Code  sum(Total Compensation)\n",
       "0         7340               9174892.49\n",
       "1         7253               5196714.90\n",
       "2         9376                909278.61\n",
       "3         7240                766794.62\n",
       "4         1460               9506938.71\n",
       "...        ...                      ...\n",
       "1010      8350                 56324.40\n",
       "1011      1367                  4581.44\n",
       "1012      3246                  4552.04\n",
       "1013      8213                  3944.57\n",
       "1014      2248                175550.21\n",
       "\n",
       "[1015 rows x 2 columns]"
      ]
     },
     "execution_count": 24,
     "metadata": {},
     "output_type": "execute_result"
    }
   ],
   "source": [
    "job_df = jobdf.toPandas()\n",
    "\n",
    "job_df"
   ]
  },
  {
   "cell_type": "code",
   "execution_count": 25,
   "metadata": {},
   "outputs": [],
   "source": [
    "job_df = job_df.sort_values(by=['sum(Total Compensation)'], ascending=False).head(10)"
   ]
  },
  {
   "cell_type": "code",
   "execution_count": 26,
   "metadata": {},
   "outputs": [
    {
     "data": {
      "text/html": [
       "<div>\n",
       "<style scoped>\n",
       "    .dataframe tbody tr th:only-of-type {\n",
       "        vertical-align: middle;\n",
       "    }\n",
       "\n",
       "    .dataframe tbody tr th {\n",
       "        vertical-align: top;\n",
       "    }\n",
       "\n",
       "    .dataframe thead th {\n",
       "        text-align: right;\n",
       "    }\n",
       "</style>\n",
       "<table border=\"1\" class=\"dataframe\">\n",
       "  <thead>\n",
       "    <tr style=\"text-align: right;\">\n",
       "      <th></th>\n",
       "      <th>Job Code</th>\n",
       "      <th>sum(Total Compensation)</th>\n",
       "    </tr>\n",
       "  </thead>\n",
       "  <tbody>\n",
       "    <tr>\n",
       "      <th>803</th>\n",
       "      <td>9163</td>\n",
       "      <td>1.631579e+09</td>\n",
       "    </tr>\n",
       "    <tr>\n",
       "      <th>186</th>\n",
       "      <td>2320</td>\n",
       "      <td>1.404298e+09</td>\n",
       "    </tr>\n",
       "    <tr>\n",
       "      <th>918</th>\n",
       "      <td>8304</td>\n",
       "      <td>6.621447e+08</td>\n",
       "    </tr>\n",
       "    <tr>\n",
       "      <th>380</th>\n",
       "      <td>8177</td>\n",
       "      <td>5.085730e+08</td>\n",
       "    </tr>\n",
       "    <tr>\n",
       "      <th>676</th>\n",
       "      <td>2708</td>\n",
       "      <td>4.177782e+08</td>\n",
       "    </tr>\n",
       "    <tr>\n",
       "      <th>804</th>\n",
       "      <td>2303</td>\n",
       "      <td>3.228093e+08</td>\n",
       "    </tr>\n",
       "    <tr>\n",
       "      <th>66</th>\n",
       "      <td>2905</td>\n",
       "      <td>2.576839e+08</td>\n",
       "    </tr>\n",
       "    <tr>\n",
       "      <th>799</th>\n",
       "      <td>7371</td>\n",
       "      <td>2.201505e+08</td>\n",
       "    </tr>\n",
       "    <tr>\n",
       "      <th>332</th>\n",
       "      <td>9139</td>\n",
       "      <td>2.128865e+08</td>\n",
       "    </tr>\n",
       "    <tr>\n",
       "      <th>560</th>\n",
       "      <td>2328</td>\n",
       "      <td>2.092410e+08</td>\n",
       "    </tr>\n",
       "  </tbody>\n",
       "</table>\n",
       "</div>"
      ],
      "text/plain": [
       "     Job Code  sum(Total Compensation)\n",
       "803      9163             1.631579e+09\n",
       "186      2320             1.404298e+09\n",
       "918      8304             6.621447e+08\n",
       "380      8177             5.085730e+08\n",
       "676      2708             4.177782e+08\n",
       "804      2303             3.228093e+08\n",
       "66       2905             2.576839e+08\n",
       "799      7371             2.201505e+08\n",
       "332      9139             2.128865e+08\n",
       "560      2328             2.092410e+08"
      ]
     },
     "execution_count": 26,
     "metadata": {},
     "output_type": "execute_result"
    }
   ],
   "source": [
    "job_df"
   ]
  },
  {
   "cell_type": "code",
   "execution_count": 27,
   "metadata": {},
   "outputs": [
    {
     "data": {
      "text/plain": [
       "<AxesSubplot:xlabel='Job Code'>"
      ]
     },
     "execution_count": 27,
     "metadata": {},
     "output_type": "execute_result"
    },
    {
     "data": {
      "image/png": "[encoded data removed]",
      "text/plain": [
       "<Figure size 432x288 with 1 Axes>"
      ]
     },
     "metadata": {
      "needs_background": "light"
     },
     "output_type": "display_data"
    }
   ],
   "source": [
    "# displaying bar plot\n",
    "job_df.plot(x='Job Code', y='sum(Total Compensation)', kind='bar')"
   ]
  },
  {
   "cell_type": "markdown",
   "metadata": {
    "application/vnd.databricks.v1+cell": {
     "inputWidgets": {},
     "nuid": "1ffac626-b0f9-45f4-b780-c1c06edf6dd1",
     "showTitle": false,
     "title": ""
    },
    "id": "txsSQSvNQP0h"
   },
   "source": [
    "#### 5.3. Check Correlation of Target Variable with Other Independent Variables. Plot Heatmap"
   ]
  },
  {
   "cell_type": "code",
   "execution_count": 28,
   "metadata": {},
   "outputs": [],
   "source": [
    "emp_df = empcomDF3.toPandas()"
   ]
  },
  {
   "cell_type": "code",
   "execution_count": 29,
   "metadata": {
    "id": "NFo9Q21lQP0h"
   },
   "outputs": [
    {
     "data": {
      "text/html": [
       "<div>\n",
       "<style scoped>\n",
       "    .dataframe tbody tr th:only-of-type {\n",
       "        vertical-align: middle;\n",
       "    }\n",
       "\n",
       "    .dataframe tbody tr th {\n",
       "        vertical-align: top;\n",
       "    }\n",
       "\n",
       "    .dataframe thead th {\n",
       "        text-align: right;\n",
       "    }\n",
       "</style>\n",
       "<table border=\"1\" class=\"dataframe\">\n",
       "  <thead>\n",
       "    <tr style=\"text-align: right;\">\n",
       "      <th></th>\n",
       "      <th>Year</th>\n",
       "      <th>Organization Group Code</th>\n",
       "      <th>Union Code</th>\n",
       "      <th>Job Family Code</th>\n",
       "      <th>Job Code</th>\n",
       "      <th>Employee Identifier</th>\n",
       "      <th>Salaries</th>\n",
       "      <th>Overtime</th>\n",
       "      <th>Other Salaries</th>\n",
       "      <th>Total Salary</th>\n",
       "      <th>Retirement</th>\n",
       "      <th>Health/Dental</th>\n",
       "      <th>Other Benefits</th>\n",
       "      <th>Total Benefits</th>\n",
       "      <th>Total Compensation</th>\n",
       "    </tr>\n",
       "  </thead>\n",
       "  <tbody>\n",
       "    <tr>\n",
       "      <th>Year</th>\n",
       "      <td>1.000000</td>\n",
       "      <td>-0.008066</td>\n",
       "      <td>0.000499</td>\n",
       "      <td>0.005013</td>\n",
       "      <td>0.004997</td>\n",
       "      <td>0.000437</td>\n",
       "      <td>0.010317</td>\n",
       "      <td>0.016648</td>\n",
       "      <td>-0.001723</td>\n",
       "      <td>0.012157</td>\n",
       "      <td>0.022726</td>\n",
       "      <td>-0.019205</td>\n",
       "      <td>0.032947</td>\n",
       "      <td>0.014987</td>\n",
       "      <td>0.013037</td>\n",
       "    </tr>\n",
       "    <tr>\n",
       "      <th>Organization Group Code</th>\n",
       "      <td>-0.008066</td>\n",
       "      <td>1.000000</td>\n",
       "      <td>0.185864</td>\n",
       "      <td>-0.408631</td>\n",
       "      <td>-0.411874</td>\n",
       "      <td>0.003126</td>\n",
       "      <td>-0.106523</td>\n",
       "      <td>-0.223804</td>\n",
       "      <td>-0.112393</td>\n",
       "      <td>-0.149806</td>\n",
       "      <td>-0.145547</td>\n",
       "      <td>-0.169926</td>\n",
       "      <td>-0.062933</td>\n",
       "      <td>-0.144444</td>\n",
       "      <td>-0.149911</td>\n",
       "    </tr>\n",
       "    <tr>\n",
       "      <th>Union Code</th>\n",
       "      <td>0.000499</td>\n",
       "      <td>0.185864</td>\n",
       "      <td>1.000000</td>\n",
       "      <td>-0.141666</td>\n",
       "      <td>-0.146441</td>\n",
       "      <td>-0.002694</td>\n",
       "      <td>-0.158040</td>\n",
       "      <td>-0.112599</td>\n",
       "      <td>0.046283</td>\n",
       "      <td>-0.158717</td>\n",
       "      <td>-0.149919</td>\n",
       "      <td>-0.090707</td>\n",
       "      <td>-0.204535</td>\n",
       "      <td>-0.156853</td>\n",
       "      <td>-0.159841</td>\n",
       "    </tr>\n",
       "    <tr>\n",
       "      <th>Job Family Code</th>\n",
       "      <td>0.005013</td>\n",
       "      <td>-0.408631</td>\n",
       "      <td>-0.141666</td>\n",
       "      <td>1.000000</td>\n",
       "      <td>0.995053</td>\n",
       "      <td>-0.004662</td>\n",
       "      <td>-0.123682</td>\n",
       "      <td>0.276137</td>\n",
       "      <td>0.051599</td>\n",
       "      <td>-0.058065</td>\n",
       "      <td>-0.069156</td>\n",
       "      <td>-0.038087</td>\n",
       "      <td>-0.154055</td>\n",
       "      <td>-0.084692</td>\n",
       "      <td>-0.065689</td>\n",
       "    </tr>\n",
       "    <tr>\n",
       "      <th>Job Code</th>\n",
       "      <td>0.004997</td>\n",
       "      <td>-0.411874</td>\n",
       "      <td>-0.146441</td>\n",
       "      <td>0.995053</td>\n",
       "      <td>1.000000</td>\n",
       "      <td>-0.005024</td>\n",
       "      <td>-0.114382</td>\n",
       "      <td>0.274664</td>\n",
       "      <td>0.051763</td>\n",
       "      <td>-0.049821</td>\n",
       "      <td>-0.061185</td>\n",
       "      <td>-0.033185</td>\n",
       "      <td>-0.143933</td>\n",
       "      <td>-0.076508</td>\n",
       "      <td>-0.057377</td>\n",
       "    </tr>\n",
       "    <tr>\n",
       "      <th>Employee Identifier</th>\n",
       "      <td>0.000437</td>\n",
       "      <td>0.003126</td>\n",
       "      <td>-0.002694</td>\n",
       "      <td>-0.004662</td>\n",
       "      <td>-0.005024</td>\n",
       "      <td>1.000000</td>\n",
       "      <td>-0.001193</td>\n",
       "      <td>0.001819</td>\n",
       "      <td>-0.001233</td>\n",
       "      <td>-0.000911</td>\n",
       "      <td>0.000411</td>\n",
       "      <td>-0.000326</td>\n",
       "      <td>-0.000924</td>\n",
       "      <td>-0.000009</td>\n",
       "      <td>-0.000665</td>\n",
       "    </tr>\n",
       "    <tr>\n",
       "      <th>Salaries</th>\n",
       "      <td>0.010317</td>\n",
       "      <td>-0.106523</td>\n",
       "      <td>-0.158040</td>\n",
       "      <td>-0.123682</td>\n",
       "      <td>-0.114382</td>\n",
       "      <td>-0.001193</td>\n",
       "      <td>1.000000</td>\n",
       "      <td>0.139427</td>\n",
       "      <td>0.307592</td>\n",
       "      <td>0.972852</td>\n",
       "      <td>0.965021</td>\n",
       "      <td>0.764915</td>\n",
       "      <td>0.856024</td>\n",
       "      <td>0.954866</td>\n",
       "      <td>0.977949</td>\n",
       "    </tr>\n",
       "    <tr>\n",
       "      <th>Overtime</th>\n",
       "      <td>0.016648</td>\n",
       "      <td>-0.223804</td>\n",
       "      <td>-0.112599</td>\n",
       "      <td>0.276137</td>\n",
       "      <td>0.274664</td>\n",
       "      <td>0.001819</td>\n",
       "      <td>0.139427</td>\n",
       "      <td>1.000000</td>\n",
       "      <td>0.303601</td>\n",
       "      <td>0.339203</td>\n",
       "      <td>0.210308</td>\n",
       "      <td>0.253243</td>\n",
       "      <td>0.188037</td>\n",
       "      <td>0.232944</td>\n",
       "      <td>0.314516</td>\n",
       "    </tr>\n",
       "    <tr>\n",
       "      <th>Other Salaries</th>\n",
       "      <td>-0.001723</td>\n",
       "      <td>-0.112393</td>\n",
       "      <td>0.046283</td>\n",
       "      <td>0.051599</td>\n",
       "      <td>0.051763</td>\n",
       "      <td>-0.001233</td>\n",
       "      <td>0.307592</td>\n",
       "      <td>0.303601</td>\n",
       "      <td>1.000000</td>\n",
       "      <td>0.450545</td>\n",
       "      <td>0.359204</td>\n",
       "      <td>0.219288</td>\n",
       "      <td>0.196412</td>\n",
       "      <td>0.309057</td>\n",
       "      <td>0.417659</td>\n",
       "    </tr>\n",
       "    <tr>\n",
       "      <th>Total Salary</th>\n",
       "      <td>0.012157</td>\n",
       "      <td>-0.149806</td>\n",
       "      <td>-0.158717</td>\n",
       "      <td>-0.058065</td>\n",
       "      <td>-0.049821</td>\n",
       "      <td>-0.000911</td>\n",
       "      <td>0.972852</td>\n",
       "      <td>0.339203</td>\n",
       "      <td>0.450545</td>\n",
       "      <td>1.000000</td>\n",
       "      <td>0.959461</td>\n",
       "      <td>0.768200</td>\n",
       "      <td>0.837149</td>\n",
       "      <td>0.948369</td>\n",
       "      <td>0.996467</td>\n",
       "    </tr>\n",
       "    <tr>\n",
       "      <th>Retirement</th>\n",
       "      <td>0.022726</td>\n",
       "      <td>-0.145547</td>\n",
       "      <td>-0.149919</td>\n",
       "      <td>-0.069156</td>\n",
       "      <td>-0.061185</td>\n",
       "      <td>0.000411</td>\n",
       "      <td>0.965021</td>\n",
       "      <td>0.210308</td>\n",
       "      <td>0.359204</td>\n",
       "      <td>0.959461</td>\n",
       "      <td>1.000000</td>\n",
       "      <td>0.781476</td>\n",
       "      <td>0.824666</td>\n",
       "      <td>0.972066</td>\n",
       "      <td>0.972496</td>\n",
       "    </tr>\n",
       "    <tr>\n",
       "      <th>Health/Dental</th>\n",
       "      <td>-0.019205</td>\n",
       "      <td>-0.169926</td>\n",
       "      <td>-0.090707</td>\n",
       "      <td>-0.038087</td>\n",
       "      <td>-0.033185</td>\n",
       "      <td>-0.000326</td>\n",
       "      <td>0.764915</td>\n",
       "      <td>0.253243</td>\n",
       "      <td>0.219288</td>\n",
       "      <td>0.768200</td>\n",
       "      <td>0.781476</td>\n",
       "      <td>1.000000</td>\n",
       "      <td>0.700116</td>\n",
       "      <td>0.882454</td>\n",
       "      <td>0.806242</td>\n",
       "    </tr>\n",
       "    <tr>\n",
       "      <th>Other Benefits</th>\n",
       "      <td>0.032947</td>\n",
       "      <td>-0.062933</td>\n",
       "      <td>-0.204535</td>\n",
       "      <td>-0.154055</td>\n",
       "      <td>-0.143933</td>\n",
       "      <td>-0.000924</td>\n",
       "      <td>0.856024</td>\n",
       "      <td>0.188037</td>\n",
       "      <td>0.196412</td>\n",
       "      <td>0.837149</td>\n",
       "      <td>0.824666</td>\n",
       "      <td>0.700116</td>\n",
       "      <td>1.000000</td>\n",
       "      <td>0.890267</td>\n",
       "      <td>0.859673</td>\n",
       "    </tr>\n",
       "    <tr>\n",
       "      <th>Total Benefits</th>\n",
       "      <td>0.014987</td>\n",
       "      <td>-0.144444</td>\n",
       "      <td>-0.156853</td>\n",
       "      <td>-0.084692</td>\n",
       "      <td>-0.076508</td>\n",
       "      <td>-0.000009</td>\n",
       "      <td>0.954866</td>\n",
       "      <td>0.232944</td>\n",
       "      <td>0.309057</td>\n",
       "      <td>0.948369</td>\n",
       "      <td>0.972066</td>\n",
       "      <td>0.882454</td>\n",
       "      <td>0.890267</td>\n",
       "      <td>1.000000</td>\n",
       "      <td>0.971646</td>\n",
       "    </tr>\n",
       "    <tr>\n",
       "      <th>Total Compensation</th>\n",
       "      <td>0.013037</td>\n",
       "      <td>-0.149911</td>\n",
       "      <td>-0.159841</td>\n",
       "      <td>-0.065689</td>\n",
       "      <td>-0.057377</td>\n",
       "      <td>-0.000665</td>\n",
       "      <td>0.977949</td>\n",
       "      <td>0.314516</td>\n",
       "      <td>0.417659</td>\n",
       "      <td>0.996467</td>\n",
       "      <td>0.972496</td>\n",
       "      <td>0.806242</td>\n",
       "      <td>0.859673</td>\n",
       "      <td>0.971646</td>\n",
       "      <td>1.000000</td>\n",
       "    </tr>\n",
       "  </tbody>\n",
       "</table>\n",
       "</div>"
      ],
      "text/plain": [
       "                             Year  Organization Group Code  Union Code  \\\n",
       "Year                     1.000000                -0.008066    0.000499   \n",
       "Organization Group Code -0.008066                 1.000000    0.185864   \n",
       "Union Code               0.000499                 0.185864    1.000000   \n",
       "Job Family Code          0.005013                -0.408631   -0.141666   \n",
       "Job Code                 0.004997                -0.411874   -0.146441   \n",
       "Employee Identifier      0.000437                 0.003126   -0.002694   \n",
       "Salaries                 0.010317                -0.106523   -0.158040   \n",
       "Overtime                 0.016648                -0.223804   -0.112599   \n",
       "Other Salaries          -0.001723                -0.112393    0.046283   \n",
       "Total Salary             0.012157                -0.149806   -0.158717   \n",
       "Retirement               0.022726                -0.145547   -0.149919   \n",
       "Health/Dental           -0.019205                -0.169926   -0.090707   \n",
       "Other Benefits           0.032947                -0.062933   -0.204535   \n",
       "Total Benefits           0.014987                -0.144444   -0.156853   \n",
       "Total Compensation       0.013037                -0.149911   -0.159841   \n",
       "\n",
       "                         Job Family Code  Job Code  Employee Identifier  \\\n",
       "Year                            0.005013  0.004997             0.000437   \n",
       "Organization Group Code        -0.408631 -0.411874             0.003126   \n",
       "Union Code                     -0.141666 -0.146441            -0.002694   \n",
       "Job Family Code                 1.000000  0.995053            -0.004662   \n",
       "Job Code                        0.995053  1.000000            -0.005024   \n",
       "Employee Identifier            -0.004662 -0.005024             1.000000   \n",
       "Salaries                       -0.123682 -0.114382            -0.001193   \n",
       "Overtime                        0.276137  0.274664             0.001819   \n",
       "Other Salaries                  0.051599  0.051763            -0.001233   \n",
       "Total Salary                   -0.058065 -0.049821            -0.000911   \n",
       "Retirement                     -0.069156 -0.061185             0.000411   \n",
       "Health/Dental                  -0.038087 -0.033185            -0.000326   \n",
       "Other Benefits                 -0.154055 -0.143933            -0.000924   \n",
       "Total Benefits                 -0.084692 -0.076508            -0.000009   \n",
       "Total Compensation             -0.065689 -0.057377            -0.000665   \n",
       "\n",
       "                         Salaries  Overtime  Other Salaries  Total Salary  \\\n",
       "Year                     0.010317  0.016648       -0.001723      0.012157   \n",
       "Organization Group Code -0.106523 -0.223804       -0.112393     -0.149806   \n",
       "Union Code              -0.158040 -0.112599        0.046283     -0.158717   \n",
       "Job Family Code         -0.123682  0.276137        0.051599     -0.058065   \n",
       "Job Code                -0.114382  0.274664        0.051763     -0.049821   \n",
       "Employee Identifier     -0.001193  0.001819       -0.001233     -0.000911   \n",
       "Salaries                 1.000000  0.139427        0.307592      0.972852   \n",
       "Overtime                 0.139427  1.000000        0.303601      0.339203   \n",
       "Other Salaries           0.307592  0.303601        1.000000      0.450545   \n",
       "Total Salary             0.972852  0.339203        0.450545      1.000000   \n",
       "Retirement               0.965021  0.210308        0.359204      0.959461   \n",
       "Health/Dental            0.764915  0.253243        0.219288      0.768200   \n",
       "Other Benefits           0.856024  0.188037        0.196412      0.837149   \n",
       "Total Benefits           0.954866  0.232944        0.309057      0.948369   \n",
       "Total Compensation       0.977949  0.314516        0.417659      0.996467   \n",
       "\n",
       "                         Retirement  Health/Dental  Other Benefits  \\\n",
       "Year                       0.022726      -0.019205        0.032947   \n",
       "Organization Group Code   -0.145547      -0.169926       -0.062933   \n",
       "Union Code                -0.149919      -0.090707       -0.204535   \n",
       "Job Family Code           -0.069156      -0.038087       -0.154055   \n",
       "Job Code                  -0.061185      -0.033185       -0.143933   \n",
       "Employee Identifier        0.000411      -0.000326       -0.000924   \n",
       "Salaries                   0.965021       0.764915        0.856024   \n",
       "Overtime                   0.210308       0.253243        0.188037   \n",
       "Other Salaries             0.359204       0.219288        0.196412   \n",
       "Total Salary               0.959461       0.768200        0.837149   \n",
       "Retirement                 1.000000       0.781476        0.824666   \n",
       "Health/Dental              0.781476       1.000000        0.700116   \n",
       "Other Benefits             0.824666       0.700116        1.000000   \n",
       "Total Benefits             0.972066       0.882454        0.890267   \n",
       "Total Compensation         0.972496       0.806242        0.859673   \n",
       "\n",
       "                         Total Benefits  Total Compensation  \n",
       "Year                           0.014987            0.013037  \n",
       "Organization Group Code       -0.144444           -0.149911  \n",
       "Union Code                    -0.156853           -0.159841  \n",
       "Job Family Code               -0.084692           -0.065689  \n",
       "Job Code                      -0.076508           -0.057377  \n",
       "Employee Identifier           -0.000009           -0.000665  \n",
       "Salaries                       0.954866            0.977949  \n",
       "Overtime                       0.232944            0.314516  \n",
       "Other Salaries                 0.309057            0.417659  \n",
       "Total Salary                   0.948369            0.996467  \n",
       "Retirement                     0.972066            0.972496  \n",
       "Health/Dental                  0.882454            0.806242  \n",
       "Other Benefits                 0.890267            0.859673  \n",
       "Total Benefits                 1.000000            0.971646  \n",
       "Total Compensation             0.971646            1.000000  "
      ]
     },
     "execution_count": 29,
     "metadata": {},
     "output_type": "execute_result"
    }
   ],
   "source": [
    "corrM = emp_df.corr()\n",
    "\n",
    "corrM"
   ]
  },
  {
   "cell_type": "code",
   "execution_count": 30,
   "metadata": {},
   "outputs": [
    {
     "data": {
      "text/plain": [
       "<AxesSubplot:>"
      ]
     },
     "execution_count": 30,
     "metadata": {},
     "output_type": "execute_result"
    },
    {
     "data": {
      "image/png": "[encoded data removed]",
      "text/plain": [
       "<Figure size 612x612 with 2 Axes>"
      ]
     },
     "metadata": {
      "needs_background": "light"
     },
     "output_type": "display_data"
    }
   ],
   "source": [
    "plt.figure(figsize=(8.5,8.5))\n",
    "sns.heatmap(corrM, cmap='Blues', linewidths =.5)"
   ]
  },
  {
   "cell_type": "markdown",
   "metadata": {
    "application/vnd.databricks.v1+cell": {
     "inputWidgets": {},
     "nuid": "9f43beda-e255-4431-a35a-bb05a1f1e670",
     "showTitle": false,
     "title": ""
    },
    "id": "NiZX_Be8QP0h"
   },
   "source": [
    "### 6. Perform necessary data pre-processing and divide the data into train and test set"
   ]
  },
  {
   "cell_type": "markdown",
   "metadata": {
    "id": "6p5egOcB-VnG"
   },
   "source": [
    "#### 6.1 Categorise the attributes into its type (Use one hot encoding wherever required)"
   ]
  },
  {
   "cell_type": "code",
   "execution_count": 31,
   "metadata": {
    "id": "O5SYln1OQP0i"
   },
   "outputs": [
    {
     "name": "stdout",
     "output_type": "stream",
     "text": [
      "+---------+---------------+----------------+-----------------------+\n",
      "|Year Type|Department Code|YearType_indexed|Department Code_indexed|\n",
      "+---------+---------------+----------------+-----------------------+\n",
      "|Fiscal   |DAT            |0.0             |17.0                   |\n",
      "|Calendar |ART            |1.0             |42.0                   |\n",
      "|Calendar |DPH            |1.0             |0.0                    |\n",
      "|Fiscal   |DPH            |0.0             |0.0                    |\n",
      "|Fiscal   |REC            |0.0             |3.0                    |\n",
      "+---------+---------------+----------------+-----------------------+\n",
      "only showing top 5 rows\n",
      "\n"
     ]
    }
   ],
   "source": [
    "from pyspark.ml.feature import StringIndexer\n",
    "indexers = StringIndexer(inputCols= ['Year Type', 'Department Code'], \n",
    "                         outputCols=['YearType_indexed', 'Department Code_indexed'])\n",
    "strindexedDF = indexers.fit(empcomDF3).transform(empcomDF3)\n",
    "strindexedDF.select('Year Type', 'Department Code', 'YearType_indexed', 'Department Code_indexed').show(5, False)"
   ]
  },
  {
   "cell_type": "code",
   "execution_count": 32,
   "metadata": {},
   "outputs": [
    {
     "name": "stdout",
     "output_type": "stream",
     "text": [
      "+----------------+-----------------------+-------------+-------------------+\n",
      "|YearType_indexed|Department Code_indexed|YearType_vec |Department Code_vec|\n",
      "+----------------+-----------------------+-------------+-------------------+\n",
      "|0.0             |17.0                   |(1,[0],[1.0])|(52,[17],[1.0])    |\n",
      "|1.0             |42.0                   |(1,[],[])    |(52,[42],[1.0])    |\n",
      "|1.0             |0.0                    |(1,[],[])    |(52,[0],[1.0])     |\n",
      "|0.0             |0.0                    |(1,[0],[1.0])|(52,[0],[1.0])     |\n",
      "|0.0             |3.0                    |(1,[0],[1.0])|(52,[3],[1.0])     |\n",
      "+----------------+-----------------------+-------------+-------------------+\n",
      "only showing top 5 rows\n",
      "\n"
     ]
    }
   ],
   "source": [
    "from pyspark.ml.feature import OneHotEncoder\n",
    "encoder = OneHotEncoder(inputCols= ['YearType_indexed', 'Department Code_indexed'], \n",
    "                         outputCols=['YearType_vec', 'Department Code_vec'])\n",
    "encodedDF = encoder.fit(strindexedDF).transform(strindexedDF)\n",
    "encodedDF.select('YearType_indexed', 'Department Code_indexed', 'YearType_vec', 'Department Code_vec').show(5, False)"
   ]
  },
  {
   "cell_type": "code",
   "execution_count": 33,
   "metadata": {},
   "outputs": [
    {
     "name": "stdout",
     "output_type": "stream",
     "text": [
      "+--------------------------------------------------------------------------------------------------------------------------------------------------------------+\n",
      "|features                                                                                                                                                      |\n",
      "+--------------------------------------------------------------------------------------------------------------------------------------------------------------+\n",
      "|(67,[0,1,2,20,55,56,57,58,59,61,62,63,64,65,66],[1.0,2016.0,1.0,1.0,311.0,8100.0,8177.0,49919.0,114473.16,1500.0,115973.16,21025.98,13068.8,9368.71,43463.49])|\n",
      "|(67,[1,2,45,55,56,57,58,59,62,63,64,65,66],[2013.0,5.0,1.0,790.0,1800.0,1844.0,1225.0,84077.11,84077.11,16587.3,12457.73,6931.91,35976.94])                   |\n",
      "|(67,[1,2,3,55,56,57,58,59,61,62,64,65,66],[2015.0,4.0,1.0,535.0,2900.0,2903.0,34873.0,9980.17,798.43,10778.6,2254.93,835.11,3090.04])                         |\n",
      "|(67,[0,1,2,3,55,56,57,58,59,62,64,65,66],[1.0,2015.0,4.0,1.0,250.0,2200.0,2202.0,51145.0,2873.41,2873.41,622.63,222.46,845.09])                               |\n",
      "|(67,[0,1,2,6,55,56,57,58,59,61,62,64,65,66],[1.0,2014.0,5.0,1.0,790.0,3200.0,3279.0,48705.0,6701.85,176.7,6878.55,2711.66,538.43,3250.09])                    |\n",
      "+--------------------------------------------------------------------------------------------------------------------------------------------------------------+\n",
      "only showing top 5 rows\n",
      "\n"
     ]
    }
   ],
   "source": [
    "from pyspark.ml.feature import VectorAssembler\n",
    "\n",
    "features_col = ['YearType_vec', 'Year', 'Organization Group Code', 'Department Code_vec', 'Union Code', \n",
    "                'Job Family Code', 'Job Code', 'Employee Identifier', 'Salaries', 'Overtime', 'Other Salaries', \n",
    "                'Total Salary', 'Retirement', 'Health/Dental', 'Other Benefits', 'Total Benefits']\n",
    "\n",
    "# Create the VectorAssembler object\n",
    "assembler = VectorAssembler(inputCols= features_col, outputCol= \"features\")\n",
    "assembledDF = assembler.transform(encodedDF)\n",
    "assembledDF.select(\"features\").show(5, False)"
   ]
  },
  {
   "cell_type": "markdown",
   "metadata": {
    "id": "rrGRAFAG-YLX"
   },
   "source": [
    "#### 6.2 Split the data into train and test set"
   ]
  },
  {
   "cell_type": "code",
   "execution_count": 34,
   "metadata": {
    "id": "K7phDDJU-sav"
   },
   "outputs": [
    {
     "name": "stdout",
     "output_type": "stream",
     "text": [
      "Observations in training set =  184923\n",
      "Observations in testing set =  61678\n"
     ]
    }
   ],
   "source": [
    "# We spilt the data into 75-25 set\n",
    "# Training Set - 75% obesevations\n",
    "# Testing Set - 25% observations\n",
    "trainDF, testDF =  assembledDF.randomSplit([0.75,0.25])\n",
    "\n",
    "# print the count of observations in each set\n",
    "print(\"Observations in training set = \", trainDF.count())\n",
    "print(\"Observations in testing set = \", testDF.count())"
   ]
  },
  {
   "cell_type": "markdown",
   "metadata": {
    "application/vnd.databricks.v1+cell": {
     "inputWidgets": {},
     "nuid": "114ba72f-16e5-4657-bbaf-969596890cca",
     "showTitle": false,
     "title": ""
    },
    "id": "XSZnLJe5QP0i"
   },
   "source": [
    "### 7. Fit Linear Regression model on the data and check its performance"
   ]
  },
  {
   "cell_type": "code",
   "execution_count": 35,
   "metadata": {
    "id": "bjXSlK7OQP0i"
   },
   "outputs": [
    {
     "name": "stdout",
     "output_type": "stream",
     "text": [
      "RMSE: 1919.710405\n",
      "r2: 0.999076\n",
      "+------------------+------------------+--------------------+\n",
      "|        prediction|Total Compensation|            features|\n",
      "+------------------+------------------+--------------------+\n",
      "| 51730.39355508657|          48209.58|(67,[1,2,32,55,56...|\n",
      "|143716.64406193641|         142735.79|(67,[1,2,32,55,56...|\n",
      "| 167651.5599601032|         167569.95|(67,[1,2,32,55,56...|\n",
      "| 86889.91288603377|          87566.79|(67,[1,2,32,55,56...|\n",
      "|124827.32960050827|         127627.75|(67,[1,2,32,55,56...|\n",
      "|113332.71112286503|         115761.37|(67,[1,2,32,55,56...|\n",
      "|124945.26475245936|         127738.34|(67,[1,2,32,55,56...|\n",
      "|101017.18098411243|         101914.07|(67,[1,2,32,55,56...|\n",
      "| 85346.38004551083|          85925.26|(67,[1,2,32,55,56...|\n",
      "| 33752.16440370318|          31984.87|(67,[1,2,32,55,56...|\n",
      "+------------------+------------------+--------------------+\n",
      "only showing top 10 rows\n",
      "\n"
     ]
    }
   ],
   "source": [
    "from pyspark.ml.regression import LinearRegression\n",
    "\n",
    "lr = LinearRegression(featuresCol = 'features', labelCol='Total Compensation', maxIter=10, \n",
    "                      regParam=0.3, elasticNetParam=0.8)\n",
    "lr_model = lr.fit(trainDF)\n",
    "\n",
    "trainingSummary = lr_model.summary\n",
    "print(\"RMSE: %f\" % trainingSummary.rootMeanSquaredError)\n",
    "print(\"r2: %f\" % trainingSummary.r2)\n",
    "\n",
    "lr_predictions = lr_model.transform(testDF)\n",
    "lr_predictions.select(\"prediction\",\"Total Compensation\",\"features\").show(10)"
   ]
  },
  {
   "cell_type": "code",
   "execution_count": 36,
   "metadata": {},
   "outputs": [
    {
     "name": "stdout",
     "output_type": "stream",
     "text": [
      "R Squared (R2) on val data = 0.999054\n"
     ]
    }
   ],
   "source": [
    "from pyspark.ml.evaluation import RegressionEvaluator\n",
    "lr_evaluator = RegressionEvaluator(predictionCol=\"prediction\", \\\n",
    "                 labelCol=\"Total Compensation\",metricName=\"r2\")\n",
    "print(\"R Squared (R2) on val data = %g\" % lr_evaluator.evaluate(lr_predictions))"
   ]
  },
  {
   "cell_type": "markdown",
   "metadata": {
    "application/vnd.databricks.v1+cell": {
     "inputWidgets": {},
     "nuid": "51e30540-ef2e-4239-b323-ba406674e87b",
     "showTitle": false,
     "title": ""
    },
    "id": "yb53Fy9yQP0i"
   },
   "source": [
    "### 8. Fit Decision Tree Regression model on the data and check its performance (Optional)"
   ]
  },
  {
   "cell_type": "code",
   "execution_count": null,
   "metadata": {},
   "outputs": [],
   "source": [
    "from pyspark.ml.regression import DecisionTreeRegressor\n",
    "dt = DecisionTreeRegressor(featuresCol ='scaled_features', labelCol = 'Total Compensation')\n",
    "dt_model = dt.fit(trainDF)"
   ]
  },
  {
   "cell_type": "markdown",
   "metadata": {
    "application/vnd.databricks.v1+cell": {
     "inputWidgets": {},
     "nuid": "addb469a-37a3-47e8-8e65-4972a889cc4f",
     "showTitle": false,
     "title": ""
    },
    "id": "NPagi7ftQP0i"
   },
   "source": [
    "### Model Persistence (Optional)\n",
    "Model persistence means saving your model to a disk. After you finalize your model for prediction depending upon the performance, you need to save the model to the disk. Let's say, you finalize 'lrmodel' to be used for in production environment i.e. in your application. We use the following code to save it."
   ]
  },
  {
   "cell_type": "markdown",
   "metadata": {
    "id": "Id1_cG1yb_7n"
   },
   "source": [
    "##### Saving the model"
   ]
  },
  {
   "cell_type": "code",
   "execution_count": null,
   "metadata": {},
   "outputs": [],
   "source": [
    "# use save() method to save the model\n",
    "# write().overwrite() is usually used when you want to replace the older model with a new one\n",
    "# It might happen that you wish to retrain your model and save it at the same the place\n",
    "lrmodel.write().overwrite().save(\"/FileStore/models/lrmodel\")"
   ]
  },
  {
   "cell_type": "markdown",
   "metadata": {
    "id": "VzsuP83tcEVN"
   },
   "source": [
    "##### Loading the model"
   ]
  },
  {
   "cell_type": "code",
   "execution_count": null,
   "metadata": {
    "id": "273mlbIPb8rY"
   },
   "outputs": [],
   "source": [
    "# import PipelineModel from pyspark.ml package\n",
    "from pyspark.ml import PipelineModel\n",
    "\n",
    "# load the model from the location it is stored\n",
    "# The loaded model acts as PipelineModel\n",
    "pipemodel = PipelineModel.load(\"/models/lr_model\")\n",
    "\n",
    "# use the PipelineModel object to perform prediciton on test data. \n",
    "# Use .transform() to perfrom prediction\n",
    "prediction = pipemodel.transform(testDF)\n",
    "\n",
    "# print the results\n",
    "prediction.select(\"prediction\",\"Total Compensation\",\"features\").show(10)"
   ]
  }
 ],
 "metadata": {
  "application/vnd.databricks.v1+notebook": {
   "dashboards": [],
   "language": "python",
   "notebookMetadata": {
    "pythonIndentUnit": 2
   },
   "notebookName": "In-Class Exercise (Spark ML)",
   "notebookOrigID": 3796726700441172,
   "widgets": {}
  },
  "colab": {
   "collapsed_sections": [],
   "name": "Part-2 Question Notebook-.ipynb",
   "provenance": []
  },
  "kernelspec": {
   "display_name": "Python 3",
   "language": "python",
   "name": "python3"
  },
  "language_info": {
   "codemirror_mode": {
    "name": "ipython",
    "version": 3
   },
   "file_extension": ".py",
   "mimetype": "text/x-python",
   "name": "python",
   "nbconvert_exporter": "python",
   "pygments_lexer": "ipython3",
   "version": "3.8.8"
  }
 },
 "nbformat": 4,
 "nbformat_minor": 1
}
